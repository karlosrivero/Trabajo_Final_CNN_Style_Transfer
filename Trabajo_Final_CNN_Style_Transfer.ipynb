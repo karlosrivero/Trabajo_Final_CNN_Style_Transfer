{
  "nbformat": 4,
  "nbformat_minor": 0,
  "metadata": {
    "colab": {
      "name": "Trabajo Final CNN - Style Transfer.ipynb",
      "provenance": [],
      "collapsed_sections": []
    },
    "kernelspec": {
      "name": "python3",
      "display_name": "Python 3"
    },
    "accelerator": "GPU"
  },
  "cells": [
    {
      "cell_type": "markdown",
      "metadata": {
        "id": "qCY6UbkkI9_N"
      },
      "source": [
        "# Style Transfer\n",
        "\n",
        "<img src=\"https://i0.wp.com/chelseatroy.com/wp-content/uploads/2018/12/neural_style_transfer.png?resize=768%2C311&ssl=1\">\n",
        "\n",
        "La idea de este trabajo final es reproducir el siguiente paper:\n",
        "\n",
        "https://arxiv.org/pdf/1508.06576.pdf\n",
        "\n",
        "El objetivo es transferir el estilo de una imagen dada a otra imagen distinta. \n",
        "\n",
        "Como hemos visto en clase, las primeras capas de una red convolucional se activan ante la presencia de ciertos patrones vinculados a detalles muy pequeños.\n",
        "\n",
        "A medida que avanzamos en las distintas capas de una red neuronal convolucional, los filtros se van activando a medida que detectan patrones de formas cada vez mas complejos.\n",
        "\n",
        "Lo que propone este paper es asignarle a la activación de las primeras capas de una red neuronal convolucional (por ejemplo VGG19) la definición del estilo y a la activación de las últimas capas de la red neuronal convolucional, la definición del contenido.\n",
        "\n",
        "La idea de este paper es, a partir de dos imágenes (una que aporte el estilo y otra que aporte el contenido) analizar cómo es la activación de las primeras capas para la imagen que aporta el estilo y cómo es la activación de las últimas capas de la red convolucional para la imagen que aporta el contenido. A partir de esto se intentará sintetizar una imagen que active los filtros de las primeras capas que se activaron con la imagen que aporta el estilo y los filtros de las últimas capas que se activaron con la imagen que aporta el contenido.\n",
        "\n",
        "A este procedimiento se lo denomina neural style transfer.\n",
        "\n",
        "# En este trabajo se deberá leer el paper mencionado y en base a ello, entender la implementación que se muestra a continuación y contestar preguntas sobre la misma.\n",
        "\n",
        "# Una metodología posible es hacer una lectura rápida del paper (aunque esto signifique no entender algunos detalles del mismo) y luego ir analizando el código y respondiendo las preguntas. A medida que se planteen las preguntas, volviendo a leer secciones específicas del paper terminará de entender los detalles que pudieran haber quedado pendientes.\n",
        "\n",
        "Lo primero que haremos es cargar dos imágenes, una que aporte el estilo y otra que aporte el contenido. A tal fin utilizaremos imágenes disponibles en la web."
      ]
    },
    {
      "cell_type": "code",
      "metadata": {
        "id": "cqd199JJSSA1"
      },
      "source": [
        "%tensorflow_version 1.x"
      ],
      "execution_count": 73,
      "outputs": []
    },
    {
      "cell_type": "code",
      "metadata": {
        "id": "kyHsa2t0SxZi",
        "outputId": "f599081d-4689-4a8e-e6f4-fc60e38eafbd",
        "colab": {
          "base_uri": "https://localhost:8080/"
        }
      },
      "source": [
        "# Imagen para estilo\n",
        "!wget http://www.artnet.com/WebServices/images/ll0038AlldXGbJFgUNECfDrCWvaHBOc0ppF/pierre-auguste-renoir-le-p%C3%AAcheur-%C3%A0-la-ligne.jpg\n",
        "\n",
        "# Imagen para contenido\n",
        "!wget https://cdn.flightsim.to/images/01/bNcnsf1e.png\n",
        "\n",
        "# Creamos el directorio para los archivos de salida\n",
        "!mkdir /content/output"
      ],
      "execution_count": 94,
      "outputs": [
        {
          "output_type": "stream",
          "text": [
            "--2020-11-12 17:43:32--  http://www.artnet.com/WebServices/images/ll0038AlldXGbJFgUNECfDrCWvaHBOc0ppF/pierre-auguste-renoir-le-p%C3%AAcheur-%C3%A0-la-ligne.jpg\n",
            "Resolving www.artnet.com (www.artnet.com)... 104.17.211.181, 104.17.212.181\n",
            "Connecting to www.artnet.com (www.artnet.com)|104.17.211.181|:80... connected.\n",
            "HTTP request sent, awaiting response... 200 OK\n",
            "Length: 84669 (83K) [image/jpeg]\n",
            "Saving to: ‘pierre-auguste-renoir-le-pêcheur-à-la-ligne.jpg’\n",
            "\n",
            "\r          pierre-au   0%[                    ]       0  --.-KB/s               \rpierre-auguste-reno 100%[===================>]  82.68K  --.-KB/s    in 0.01s   \n",
            "\n",
            "2020-11-12 17:43:32 (6.59 MB/s) - ‘pierre-auguste-renoir-le-pêcheur-à-la-ligne.jpg’ saved [84669/84669]\n",
            "\n",
            "--2020-11-12 17:43:32--  https://cdn.flightsim.to/images/01/bNcnsf1e.png\n",
            "Resolving cdn.flightsim.to (cdn.flightsim.to)... 172.67.72.219, 104.26.3.201, 104.26.2.201, ...\n",
            "Connecting to cdn.flightsim.to (cdn.flightsim.to)|172.67.72.219|:443... connected.\n",
            "HTTP request sent, awaiting response... 200 OK\n",
            "Length: 3993491 (3.8M) [image/png]\n",
            "Saving to: ‘bNcnsf1e.png’\n",
            "\n",
            "bNcnsf1e.png        100%[===================>]   3.81M  --.-KB/s    in 0.1s    \n",
            "\n",
            "2020-11-12 17:43:33 (27.4 MB/s) - ‘bNcnsf1e.png’ saved [3993491/3993491]\n",
            "\n"
          ],
          "name": "stdout"
        }
      ]
    },
    {
      "cell_type": "code",
      "metadata": {
        "id": "NIxH20o2eFoc"
      },
      "source": [
        "from keras.preprocessing.image import load_img, save_img, img_to_array\n",
        "import numpy as np\n",
        "from scipy.optimize import fmin_l_bfgs_b\n",
        "import time\n",
        "import argparse\n",
        "\n",
        "from keras.applications import vgg19\n",
        "from keras import backend as K\n",
        "from pathlib import Path"
      ],
      "execution_count": 95,
      "outputs": []
    },
    {
      "cell_type": "code",
      "metadata": {
        "id": "iLkV1bnFl_tK"
      },
      "source": [
        "# Definimos las imagenes que vamos a utilizar, y el directorio de salida\n",
        "\n",
        "base_image_path = Path(\"/content/bNcnsf1e.png\")\n",
        "style_reference_image_path = Path(\"/content/pierre-auguste-renoir-le-pêcheur-à-la-ligne.jpg\")\n",
        "result_prefix = Path(\"/content/output\")\n",
        "iterations = 100"
      ],
      "execution_count": 96,
      "outputs": []
    },
    {
      "cell_type": "markdown",
      "metadata": {
        "id": "Gz2PeGfpeYzj"
      },
      "source": [
        "# 1) En base a lo visto en el paper ¿Qué significan los parámetros definidos en la siguiente celda?\n",
        "\n",
        "Respuesta:\n",
        "\n",
        "total_variation_weight\n",
        "Peso de la variaton loss. Esto determina la correlación entre el estilo y el contenido de la imagen creada.\n",
        "\n",
        "style_weight\n",
        "Peso de la loss de estilo. Beta de la ecuación del paper\n",
        "\n",
        "content_weight\n",
        "Peso de la loss del contenido. Alpha en el ecuación del paper. \n",
        "\n",
        "La CNN utiliza varias capas para extraer patrones en vez de una sola capa."
      ]
    },
    {
      "cell_type": "code",
      "metadata": {
        "id": "P9Dt3aaEmJWS"
      },
      "source": [
        "total_variation_weight = 0.1\n",
        "style_weight = 10\n",
        "content_weight = 50"
      ],
      "execution_count": 97,
      "outputs": []
    },
    {
      "cell_type": "code",
      "metadata": {
        "id": "CQQJOhCVuse6"
      },
      "source": [
        "# Definimos el tamaño de las imágenes a utilizar\n",
        "width, height = load_img(base_image_path).size\n",
        "img_nrows = 400\n",
        "img_ncols = int(width * img_nrows / height)"
      ],
      "execution_count": 98,
      "outputs": []
    },
    {
      "cell_type": "markdown",
      "metadata": {
        "id": "gg2ct-8agm1E"
      },
      "source": [
        "# 2) Explicar qué hace la siguiente celda. En especial las últimas dos líneas de la función antes del return. ¿Por qué?\n",
        "\n",
        "Ayuda: https://keras.io/applications/\n",
        "\n",
        "Respuesta:\n",
        "\n",
        "load_img \n",
        "Carga la imagen. Su path, colores RGB con target_size y su dimensión con nrows y ncols.\n",
        "\n",
        "img_to_array\n",
        "convierte la imagen en numpy array.\n",
        "\n",
        "expand_dims \n",
        "Suma una dimensión extra.\n",
        "\n",
        "preprocess_input \n",
        "Prepocesa la imagen con vgg19 pasando la imagen de RGB a BGR y extrae de los canales la medida que necesita con valores 103.939, 116.779, y 123.68"
      ]
    },
    {
      "cell_type": "code",
      "metadata": {
        "id": "tAkljg4zuzYd"
      },
      "source": [
        "def preprocess_image(image_path):\n",
        "    img = load_img(image_path, target_size=(img_nrows, img_ncols))\n",
        "    img = img_to_array(img)\n",
        "    img = np.expand_dims(img, axis=0)\n",
        "    img = vgg19.preprocess_input(img)\n",
        "    return img"
      ],
      "execution_count": 99,
      "outputs": []
    },
    {
      "cell_type": "markdown",
      "metadata": {
        "id": "KTf0YDSagt10"
      },
      "source": [
        "# 3) Habiendo comprendido lo que hace la celda anterior, explique de manera muy concisa qué hace la siguiente celda. ¿Qué relación tiene con la celda anterior?\n",
        "\n",
        "Respuesta:\n",
        "\n",
        "Acá hacemos el proceso inverso, pasando de BGR a RGB. Eliminando los signos de los valores y a 8 bits con np.clip"
      ]
    },
    {
      "cell_type": "code",
      "metadata": {
        "id": "y5LaTrsAu14z"
      },
      "source": [
        "def deprocess_image(x):\n",
        "    x = x.reshape((img_nrows, img_ncols, 3))\n",
        "    # Remove zero-center by mean pixel\n",
        "    x[:, :, 0] += 103.939\n",
        "    x[:, :, 1] += 116.779\n",
        "    x[:, :, 2] += 123.68\n",
        "    # 'BGR'->'RGB'\n",
        "    x = x[:, :, ::-1]\n",
        "    x = np.clip(x, 0, 255).astype('uint8')\n",
        "    return x"
      ],
      "execution_count": 100,
      "outputs": []
    },
    {
      "cell_type": "code",
      "metadata": {
        "id": "HYNio09mu4S3"
      },
      "source": [
        "# get tensor representations of our images\n",
        "# K.variable convierte un numpy array en un tensor, para \n",
        "base_image = K.variable(preprocess_image(base_image_path))\n",
        "style_reference_image = K.variable(preprocess_image(style_reference_image_path))"
      ],
      "execution_count": 101,
      "outputs": []
    },
    {
      "cell_type": "code",
      "metadata": {
        "id": "a1Lbw02Uu--o"
      },
      "source": [
        "combination_image = K.placeholder((1, img_nrows, img_ncols, 3))"
      ],
      "execution_count": 102,
      "outputs": []
    },
    {
      "cell_type": "markdown",
      "metadata": {
        "id": "RJEi0YI3Uzrm"
      },
      "source": [
        "Aclaración:\n",
        "\n",
        "La siguiente celda sirve para procesar las tres imagenes (contenido, estilo y salida) en un solo batch."
      ]
    },
    {
      "cell_type": "code",
      "metadata": {
        "id": "gGO_jGFfvEbF"
      },
      "source": [
        "# combine the 3 images into a single Keras tensor\n",
        "input_tensor = K.concatenate([base_image,\n",
        "                              style_reference_image,\n",
        "                              combination_image], axis=0)"
      ],
      "execution_count": 103,
      "outputs": []
    },
    {
      "cell_type": "code",
      "metadata": {
        "id": "tdG59VRavHGB",
        "outputId": "20fe120f-a38c-4b15-a80d-829c1ba2fb2a",
        "colab": {
          "base_uri": "https://localhost:8080/"
        }
      },
      "source": [
        "# build the VGG19 network with our 3 images as input\n",
        "# the model will be loaded with pre-trained ImageNet weights\n",
        "model = vgg19.VGG19(input_tensor=input_tensor,\n",
        "                    weights='imagenet', include_top=False)\n",
        "print('Model loaded.')\n",
        "\n",
        "# get the symbolic outputs of each \"key\" layer (we gave them unique names).\n",
        "outputs_dict = dict([(layer.name, layer.output) for layer in model.layers])"
      ],
      "execution_count": 104,
      "outputs": [
        {
          "output_type": "stream",
          "text": [
            "Model loaded.\n"
          ],
          "name": "stdout"
        }
      ]
    },
    {
      "cell_type": "markdown",
      "metadata": {
        "id": "70-vs_jZkKVc"
      },
      "source": [
        "# 4) En la siguientes celdas:\n",
        "\n",
        "- ¿Qué es la matriz de Gram?¿Para qué se usa?\n",
        "\n",
        "Es el producto punto de los feature maps, lo utilizamos para encontrar la correlación entre los diferentes filtros. La idea es poder identificar los estilos de la imagen, sus colores y texturas.\n",
        "\n",
        "- ¿Por qué se permutan las dimensiones de x?\n",
        "\n",
        "Para multiplicar la matriz y obtener filas por columnas."
      ]
    },
    {
      "cell_type": "code",
      "metadata": {
        "id": "K1FODPATvJ1k"
      },
      "source": [
        "def gram_matrix(x):\n",
        "    features = K.batch_flatten(K.permute_dimensions(x, (2, 0, 1)))\n",
        "    gram = K.dot(features, K.transpose(features))\n",
        "    return gram"
      ],
      "execution_count": 105,
      "outputs": []
    },
    {
      "cell_type": "markdown",
      "metadata": {
        "id": "vBQkKFY0Rbx-"
      },
      "source": [
        "# 5) Losses:\n",
        "\n",
        "Explicar qué mide cada una de las losses en las siguientes tres celdas.\n",
        "\n",
        "Rta:\n",
        "style_loss:\n",
        "Sumatoria de las diferencias en la correlación entre los features maps de la imagen inicial y la generada. Mientras menor sea la loss mayor será la coincidencia de estilos entre ambas imagenes.\n",
        "\n",
        "content_loss:\n",
        "Mide la distancia entre los features entre ambas imagenes buscando que la creada sea lo más parecida a la orginal.\n",
        "\n",
        "total_variation_loss:\n",
        "Mide la coherencia de la imagen generada a nivel visual. "
      ]
    },
    {
      "cell_type": "code",
      "metadata": {
        "id": "1-Gt0ahWvN6q"
      },
      "source": [
        "def style_loss(style, combination):\n",
        "    assert K.ndim(style) == 3\n",
        "    assert K.ndim(combination) == 3\n",
        "    S = gram_matrix(style)\n",
        "    C = gram_matrix(combination)\n",
        "    channels = 3\n",
        "    size = img_nrows * img_ncols\n",
        "    return K.sum(K.square(S - C)) / (4.0 * (channels ** 2) * (size ** 2))"
      ],
      "execution_count": 106,
      "outputs": []
    },
    {
      "cell_type": "code",
      "metadata": {
        "id": "XCqnju5RvQCo"
      },
      "source": [
        "def content_loss(base, combination):\n",
        "    return K.sum(K.square(combination - base))\n"
      ],
      "execution_count": 107,
      "outputs": []
    },
    {
      "cell_type": "code",
      "metadata": {
        "id": "udEp5h31vRnY"
      },
      "source": [
        "def total_variation_loss(x):\n",
        "    assert K.ndim(x) == 4\n",
        "    a = K.square(\n",
        "        x[:, :img_nrows - 1, :img_ncols - 1, :] - x[:, 1:, :img_ncols - 1, :])\n",
        "    b = K.square(\n",
        "        x[:, :img_nrows - 1, :img_ncols - 1, :] - x[:, :img_nrows - 1, 1:, :])\n",
        "    return K.sum(K.pow(a + b, 1.25))\n"
      ],
      "execution_count": 108,
      "outputs": []
    },
    {
      "cell_type": "code",
      "metadata": {
        "id": "-65vcinbvTZ0"
      },
      "source": [
        "# Armamos la loss total\n",
        "loss = K.variable(0.0)\n",
        "layer_features = outputs_dict['block5_conv2']\n",
        "base_image_features = layer_features[0, :, :, :]\n",
        "combination_features = layer_features[2, :, :, :]\n",
        "loss = loss + content_weight * content_loss(base_image_features,\n",
        "                                            combination_features)\n",
        "\n",
        "feature_layers = ['block1_conv1', 'block2_conv1',\n",
        "                  'block3_conv1', 'block4_conv1',\n",
        "                  'block5_conv1']\n",
        "for layer_name in feature_layers:\n",
        "    layer_features = outputs_dict[layer_name]\n",
        "    style_reference_features = layer_features[1, :, :, :] \n",
        "    combination_features = layer_features[2, :, :, :]\n",
        "    sl = style_loss(style_reference_features, combination_features)\n",
        "    loss = loss + (style_weight / len(feature_layers)) * sl\n",
        "loss = loss + total_variation_weight * total_variation_loss(combination_image)"
      ],
      "execution_count": 109,
      "outputs": []
    },
    {
      "cell_type": "code",
      "metadata": {
        "id": "pbz4n1OhvV2K"
      },
      "source": [
        "grads = K.gradients(loss, combination_image)\n",
        "\n",
        "outputs = [loss]\n",
        "if isinstance(grads, (list, tuple)):\n",
        "    outputs += grads\n",
        "else:\n",
        "    outputs.append(grads)\n",
        "\n",
        "f_outputs = K.function([combination_image], outputs)"
      ],
      "execution_count": 110,
      "outputs": []
    },
    {
      "cell_type": "markdown",
      "metadata": {
        "id": "1JbydbOaVcvU"
      },
      "source": [
        "# 6) Explique el propósito de las siguientes tres celdas. ¿Qué hace la función fmin_l_bfgs_b? ¿En qué se diferencia con la implementación del paper? ¿Se puede utilizar alguna alternativa?\n",
        "\n",
        "Respuesta:\n",
        "\n",
        "La función fmin_l_bfgs_b se utiliza para optimizar la loss, utilizando la loss y el gradiente como imputs y calculandose al mismo tiempo, esto se logra con el Evaluator.  En la última celda se ve la loss y el gradiente en cada iteración.\n",
        "\n",
        "La diferencia con el paper es que acá no estan utilizando back-propagation, más bien usan fmin_l_bfgs_b.\n",
        "\n",
        "Una alternativa puede ser ADAM."
      ]
    },
    {
      "cell_type": "code",
      "metadata": {
        "id": "zVE1_qemvZeN"
      },
      "source": [
        "def eval_loss_and_grads(x):\n",
        "    x = x.reshape((1, img_nrows, img_ncols, 3))\n",
        "    outs = f_outputs([x])\n",
        "    loss_value = outs[0]\n",
        "    if len(outs[1:]) == 1:\n",
        "        grad_values = outs[1].flatten().astype('float64')\n",
        "    else:\n",
        "        grad_values = np.array(outs[1:]).flatten().astype('float64')\n",
        "    return loss_value, grad_values\n",
        "\n",
        "# this Evaluator class makes it possible\n",
        "# to compute loss and gradients in one pass\n",
        "# while retrieving them via two separate functions,\n",
        "# \"loss\" and \"grads\". This is done because scipy.optimize\n",
        "# requires separate functions for loss and gradients,\n",
        "# but computing them separately would be inefficient."
      ],
      "execution_count": 111,
      "outputs": []
    },
    {
      "cell_type": "code",
      "metadata": {
        "id": "Qbl9roIgvdb1"
      },
      "source": [
        "class Evaluator(object):\n",
        "\n",
        "    def __init__(self):\n",
        "        self.loss_value = None\n",
        "        self.grads_values = None\n",
        "\n",
        "    def loss(self, x):\n",
        "        assert self.loss_value is None\n",
        "        loss_value, grad_values = eval_loss_and_grads(x)\n",
        "        self.loss_value = loss_value\n",
        "        self.grad_values = grad_values\n",
        "        return self.loss_value\n",
        "\n",
        "    def grads(self, x):\n",
        "        assert self.loss_value is not None\n",
        "        grad_values = np.copy(self.grad_values)\n",
        "        self.loss_value = None\n",
        "        self.grad_values = None\n",
        "        return grad_values"
      ],
      "execution_count": 112,
      "outputs": []
    },
    {
      "cell_type": "markdown",
      "metadata": {
        "id": "Sb0yOEl-WOE6"
      },
      "source": [
        "# 7) Ejecute la siguiente celda y observe las imágenes de salida en cada iteración."
      ]
    },
    {
      "cell_type": "code",
      "metadata": {
        "id": "n31YBwCVvhAI",
        "outputId": "7ce1d200-759e-41bb-c829-7e8348dc9aae",
        "colab": {
          "base_uri": "https://localhost:8080/"
        }
      },
      "source": [
        "evaluator = Evaluator()\n",
        "\n",
        "# run scipy-based optimization (L-BFGS) over the pixels of the generated image\n",
        "# so as to minimize the neural style loss\n",
        "x = preprocess_image(base_image_path)\n",
        "\n",
        "for i in range(iterations):\n",
        "    print('Start of iteration', i)\n",
        "    start_time = time.time()\n",
        "    x, min_val, info = fmin_l_bfgs_b(evaluator.loss, x.flatten(),\n",
        "                                     fprime=evaluator.grads, maxfun=20)\n",
        "    print('Current loss value:', min_val)\n",
        "    # save current generated image\n",
        "    img = deprocess_image(x.copy())\n",
        "    fname = result_prefix / ('output_at_iteration_%d.png' % i)\n",
        "    save_img(fname, img)\n",
        "    end_time = time.time()\n",
        "    print('Image saved as', fname)\n",
        "    print('Iteration %d completed in %ds' % (i, end_time - start_time))"
      ],
      "execution_count": 113,
      "outputs": [
        {
          "output_type": "stream",
          "text": [
            "Start of iteration 0\n",
            "Current loss value: 22369237000.0\n",
            "Image saved as /content/output/output_at_iteration_0.png\n",
            "Iteration 0 completed in 5s\n",
            "Start of iteration 1\n",
            "Current loss value: 12970832000.0\n",
            "Image saved as /content/output/output_at_iteration_1.png\n",
            "Iteration 1 completed in 5s\n",
            "Start of iteration 2\n",
            "Current loss value: 10214689000.0\n",
            "Image saved as /content/output/output_at_iteration_2.png\n",
            "Iteration 2 completed in 5s\n",
            "Start of iteration 3\n",
            "Current loss value: 8931549000.0\n",
            "Image saved as /content/output/output_at_iteration_3.png\n",
            "Iteration 3 completed in 5s\n",
            "Start of iteration 4\n",
            "Current loss value: 8214672000.0\n",
            "Image saved as /content/output/output_at_iteration_4.png\n",
            "Iteration 4 completed in 5s\n",
            "Start of iteration 5\n",
            "Current loss value: 7735055000.0\n",
            "Image saved as /content/output/output_at_iteration_5.png\n",
            "Iteration 5 completed in 5s\n",
            "Start of iteration 6\n",
            "Current loss value: 7402647000.0\n",
            "Image saved as /content/output/output_at_iteration_6.png\n",
            "Iteration 6 completed in 5s\n",
            "Start of iteration 7\n",
            "Current loss value: 7156332000.0\n",
            "Image saved as /content/output/output_at_iteration_7.png\n",
            "Iteration 7 completed in 5s\n",
            "Start of iteration 8\n",
            "Current loss value: 6961538600.0\n",
            "Image saved as /content/output/output_at_iteration_8.png\n",
            "Iteration 8 completed in 5s\n",
            "Start of iteration 9\n",
            "Current loss value: 6803838000.0\n",
            "Image saved as /content/output/output_at_iteration_9.png\n",
            "Iteration 9 completed in 5s\n",
            "Start of iteration 10\n",
            "Current loss value: 6676742000.0\n",
            "Image saved as /content/output/output_at_iteration_10.png\n",
            "Iteration 10 completed in 5s\n",
            "Start of iteration 11\n",
            "Current loss value: 6569479700.0\n",
            "Image saved as /content/output/output_at_iteration_11.png\n",
            "Iteration 11 completed in 5s\n",
            "Start of iteration 12\n",
            "Current loss value: 6477545000.0\n",
            "Image saved as /content/output/output_at_iteration_12.png\n",
            "Iteration 12 completed in 5s\n",
            "Start of iteration 13\n",
            "Current loss value: 6398327000.0\n",
            "Image saved as /content/output/output_at_iteration_13.png\n",
            "Iteration 13 completed in 5s\n",
            "Start of iteration 14\n",
            "Current loss value: 6331085000.0\n",
            "Image saved as /content/output/output_at_iteration_14.png\n",
            "Iteration 14 completed in 5s\n",
            "Start of iteration 15\n",
            "Current loss value: 6272328700.0\n",
            "Image saved as /content/output/output_at_iteration_15.png\n",
            "Iteration 15 completed in 5s\n",
            "Start of iteration 16\n",
            "Current loss value: 6220397600.0\n",
            "Image saved as /content/output/output_at_iteration_16.png\n",
            "Iteration 16 completed in 5s\n",
            "Start of iteration 17\n",
            "Current loss value: 6172668000.0\n",
            "Image saved as /content/output/output_at_iteration_17.png\n",
            "Iteration 17 completed in 5s\n",
            "Start of iteration 18\n",
            "Current loss value: 6130540500.0\n",
            "Image saved as /content/output/output_at_iteration_18.png\n",
            "Iteration 18 completed in 5s\n",
            "Start of iteration 19\n",
            "Current loss value: 6092498000.0\n",
            "Image saved as /content/output/output_at_iteration_19.png\n",
            "Iteration 19 completed in 5s\n",
            "Start of iteration 20\n",
            "Current loss value: 6058420700.0\n",
            "Image saved as /content/output/output_at_iteration_20.png\n",
            "Iteration 20 completed in 5s\n",
            "Start of iteration 21\n",
            "Current loss value: 6027565000.0\n",
            "Image saved as /content/output/output_at_iteration_21.png\n",
            "Iteration 21 completed in 5s\n",
            "Start of iteration 22\n",
            "Current loss value: 5998206000.0\n",
            "Image saved as /content/output/output_at_iteration_22.png\n",
            "Iteration 22 completed in 5s\n",
            "Start of iteration 23\n",
            "Current loss value: 5971307000.0\n",
            "Image saved as /content/output/output_at_iteration_23.png\n",
            "Iteration 23 completed in 5s\n",
            "Start of iteration 24\n",
            "Current loss value: 5947303000.0\n",
            "Image saved as /content/output/output_at_iteration_24.png\n",
            "Iteration 24 completed in 5s\n",
            "Start of iteration 25\n",
            "Current loss value: 5925025300.0\n",
            "Image saved as /content/output/output_at_iteration_25.png\n",
            "Iteration 25 completed in 5s\n",
            "Start of iteration 26\n",
            "Current loss value: 5904898000.0\n",
            "Image saved as /content/output/output_at_iteration_26.png\n",
            "Iteration 26 completed in 5s\n",
            "Start of iteration 27\n",
            "Current loss value: 5885921000.0\n",
            "Image saved as /content/output/output_at_iteration_27.png\n",
            "Iteration 27 completed in 5s\n",
            "Start of iteration 28\n",
            "Current loss value: 5868625400.0\n",
            "Image saved as /content/output/output_at_iteration_28.png\n",
            "Iteration 28 completed in 5s\n",
            "Start of iteration 29\n",
            "Current loss value: 5852379600.0\n",
            "Image saved as /content/output/output_at_iteration_29.png\n",
            "Iteration 29 completed in 5s\n",
            "Start of iteration 30\n",
            "Current loss value: 5837539300.0\n",
            "Image saved as /content/output/output_at_iteration_30.png\n",
            "Iteration 30 completed in 5s\n",
            "Start of iteration 31\n",
            "Current loss value: 5823805000.0\n",
            "Image saved as /content/output/output_at_iteration_31.png\n",
            "Iteration 31 completed in 5s\n",
            "Start of iteration 32\n",
            "Current loss value: 5810789000.0\n",
            "Image saved as /content/output/output_at_iteration_32.png\n",
            "Iteration 32 completed in 5s\n",
            "Start of iteration 33\n",
            "Current loss value: 5798427600.0\n",
            "Image saved as /content/output/output_at_iteration_33.png\n",
            "Iteration 33 completed in 5s\n",
            "Start of iteration 34\n",
            "Current loss value: 5787295000.0\n",
            "Image saved as /content/output/output_at_iteration_34.png\n",
            "Iteration 34 completed in 5s\n",
            "Start of iteration 35\n",
            "Current loss value: 5776575000.0\n",
            "Image saved as /content/output/output_at_iteration_35.png\n",
            "Iteration 35 completed in 5s\n",
            "Start of iteration 36\n",
            "Current loss value: 5766875000.0\n",
            "Image saved as /content/output/output_at_iteration_36.png\n",
            "Iteration 36 completed in 5s\n",
            "Start of iteration 37\n",
            "Current loss value: 5757579300.0\n",
            "Image saved as /content/output/output_at_iteration_37.png\n",
            "Iteration 37 completed in 5s\n",
            "Start of iteration 38\n",
            "Current loss value: 5749280300.0\n",
            "Image saved as /content/output/output_at_iteration_38.png\n",
            "Iteration 38 completed in 5s\n",
            "Start of iteration 39\n",
            "Current loss value: 5741208000.0\n",
            "Image saved as /content/output/output_at_iteration_39.png\n",
            "Iteration 39 completed in 5s\n",
            "Start of iteration 40\n",
            "Current loss value: 5733750300.0\n",
            "Image saved as /content/output/output_at_iteration_40.png\n",
            "Iteration 40 completed in 5s\n",
            "Start of iteration 41\n",
            "Current loss value: 5726398500.0\n",
            "Image saved as /content/output/output_at_iteration_41.png\n",
            "Iteration 41 completed in 5s\n",
            "Start of iteration 42\n",
            "Current loss value: 5719954000.0\n",
            "Image saved as /content/output/output_at_iteration_42.png\n",
            "Iteration 42 completed in 5s\n",
            "Start of iteration 43\n",
            "Current loss value: 5713718000.0\n",
            "Image saved as /content/output/output_at_iteration_43.png\n",
            "Iteration 43 completed in 5s\n",
            "Start of iteration 44\n",
            "Current loss value: 5707914000.0\n",
            "Image saved as /content/output/output_at_iteration_44.png\n",
            "Iteration 44 completed in 5s\n",
            "Start of iteration 45\n",
            "Current loss value: 5702198300.0\n",
            "Image saved as /content/output/output_at_iteration_45.png\n",
            "Iteration 45 completed in 5s\n",
            "Start of iteration 46\n",
            "Current loss value: 5696801300.0\n",
            "Image saved as /content/output/output_at_iteration_46.png\n",
            "Iteration 46 completed in 5s\n",
            "Start of iteration 47\n",
            "Current loss value: 5691746300.0\n",
            "Image saved as /content/output/output_at_iteration_47.png\n",
            "Iteration 47 completed in 5s\n",
            "Start of iteration 48\n",
            "Current loss value: 5686777000.0\n",
            "Image saved as /content/output/output_at_iteration_48.png\n",
            "Iteration 48 completed in 5s\n",
            "Start of iteration 49\n",
            "Current loss value: 5682010600.0\n",
            "Image saved as /content/output/output_at_iteration_49.png\n",
            "Iteration 49 completed in 5s\n",
            "Start of iteration 50\n",
            "Current loss value: 5677395500.0\n",
            "Image saved as /content/output/output_at_iteration_50.png\n",
            "Iteration 50 completed in 5s\n",
            "Start of iteration 51\n",
            "Current loss value: 5673064400.0\n",
            "Image saved as /content/output/output_at_iteration_51.png\n",
            "Iteration 51 completed in 5s\n",
            "Start of iteration 52\n",
            "Current loss value: 5668827000.0\n",
            "Image saved as /content/output/output_at_iteration_52.png\n",
            "Iteration 52 completed in 5s\n",
            "Start of iteration 53\n",
            "Current loss value: 5664864000.0\n",
            "Image saved as /content/output/output_at_iteration_53.png\n",
            "Iteration 53 completed in 5s\n",
            "Start of iteration 54\n",
            "Current loss value: 5660949000.0\n",
            "Image saved as /content/output/output_at_iteration_54.png\n",
            "Iteration 54 completed in 5s\n",
            "Start of iteration 55\n",
            "Current loss value: 5657218000.0\n",
            "Image saved as /content/output/output_at_iteration_55.png\n",
            "Iteration 55 completed in 5s\n",
            "Start of iteration 56\n",
            "Current loss value: 5653598000.0\n",
            "Image saved as /content/output/output_at_iteration_56.png\n",
            "Iteration 56 completed in 5s\n",
            "Start of iteration 57\n",
            "Current loss value: 5650127000.0\n",
            "Image saved as /content/output/output_at_iteration_57.png\n",
            "Iteration 57 completed in 5s\n",
            "Start of iteration 58\n",
            "Current loss value: 5646884000.0\n",
            "Image saved as /content/output/output_at_iteration_58.png\n",
            "Iteration 58 completed in 5s\n",
            "Start of iteration 59\n",
            "Current loss value: 5643506700.0\n",
            "Image saved as /content/output/output_at_iteration_59.png\n",
            "Iteration 59 completed in 5s\n",
            "Start of iteration 60\n",
            "Current loss value: 5640359400.0\n",
            "Image saved as /content/output/output_at_iteration_60.png\n",
            "Iteration 60 completed in 5s\n",
            "Start of iteration 61\n",
            "Current loss value: 5637275600.0\n",
            "Image saved as /content/output/output_at_iteration_61.png\n",
            "Iteration 61 completed in 5s\n",
            "Start of iteration 62\n",
            "Current loss value: 5634183000.0\n",
            "Image saved as /content/output/output_at_iteration_62.png\n",
            "Iteration 62 completed in 5s\n",
            "Start of iteration 63\n",
            "Current loss value: 5631013400.0\n",
            "Image saved as /content/output/output_at_iteration_63.png\n",
            "Iteration 63 completed in 5s\n",
            "Start of iteration 64\n",
            "Current loss value: 5628032000.0\n",
            "Image saved as /content/output/output_at_iteration_64.png\n",
            "Iteration 64 completed in 5s\n",
            "Start of iteration 65\n",
            "Current loss value: 5625194500.0\n",
            "Image saved as /content/output/output_at_iteration_65.png\n",
            "Iteration 65 completed in 5s\n",
            "Start of iteration 66\n",
            "Current loss value: 5622459400.0\n",
            "Image saved as /content/output/output_at_iteration_66.png\n",
            "Iteration 66 completed in 5s\n",
            "Start of iteration 67\n",
            "Current loss value: 5619799600.0\n",
            "Image saved as /content/output/output_at_iteration_67.png\n",
            "Iteration 67 completed in 5s\n",
            "Start of iteration 68\n",
            "Current loss value: 5617252400.0\n",
            "Image saved as /content/output/output_at_iteration_68.png\n",
            "Iteration 68 completed in 5s\n",
            "Start of iteration 69\n",
            "Current loss value: 5614633500.0\n",
            "Image saved as /content/output/output_at_iteration_69.png\n",
            "Iteration 69 completed in 5s\n",
            "Start of iteration 70\n",
            "Current loss value: 5612055600.0\n",
            "Image saved as /content/output/output_at_iteration_70.png\n",
            "Iteration 70 completed in 5s\n",
            "Start of iteration 71\n",
            "Current loss value: 5609570000.0\n",
            "Image saved as /content/output/output_at_iteration_71.png\n",
            "Iteration 71 completed in 5s\n",
            "Start of iteration 72\n",
            "Current loss value: 5607152600.0\n",
            "Image saved as /content/output/output_at_iteration_72.png\n",
            "Iteration 72 completed in 5s\n",
            "Start of iteration 73\n",
            "Current loss value: 5604738600.0\n",
            "Image saved as /content/output/output_at_iteration_73.png\n",
            "Iteration 73 completed in 5s\n",
            "Start of iteration 74\n",
            "Current loss value: 5602435000.0\n",
            "Image saved as /content/output/output_at_iteration_74.png\n",
            "Iteration 74 completed in 5s\n",
            "Start of iteration 75\n",
            "Current loss value: 5600184000.0\n",
            "Image saved as /content/output/output_at_iteration_75.png\n",
            "Iteration 75 completed in 5s\n",
            "Start of iteration 76\n",
            "Current loss value: 5597978000.0\n",
            "Image saved as /content/output/output_at_iteration_76.png\n",
            "Iteration 76 completed in 5s\n",
            "Start of iteration 77\n",
            "Current loss value: 5595885000.0\n",
            "Image saved as /content/output/output_at_iteration_77.png\n",
            "Iteration 77 completed in 5s\n",
            "Start of iteration 78\n",
            "Current loss value: 5593767000.0\n",
            "Image saved as /content/output/output_at_iteration_78.png\n",
            "Iteration 78 completed in 5s\n",
            "Start of iteration 79\n",
            "Current loss value: 5591774700.0\n",
            "Image saved as /content/output/output_at_iteration_79.png\n",
            "Iteration 79 completed in 5s\n",
            "Start of iteration 80\n",
            "Current loss value: 5589853700.0\n",
            "Image saved as /content/output/output_at_iteration_80.png\n",
            "Iteration 80 completed in 5s\n",
            "Start of iteration 81\n",
            "Current loss value: 5587993000.0\n",
            "Image saved as /content/output/output_at_iteration_81.png\n",
            "Iteration 81 completed in 5s\n",
            "Start of iteration 82\n",
            "Current loss value: 5586195500.0\n",
            "Image saved as /content/output/output_at_iteration_82.png\n",
            "Iteration 82 completed in 5s\n",
            "Start of iteration 83\n",
            "Current loss value: 5584510500.0\n",
            "Image saved as /content/output/output_at_iteration_83.png\n",
            "Iteration 83 completed in 5s\n",
            "Start of iteration 84\n",
            "Current loss value: 5582853600.0\n",
            "Image saved as /content/output/output_at_iteration_84.png\n",
            "Iteration 84 completed in 5s\n",
            "Start of iteration 85\n",
            "Current loss value: 5581250600.0\n",
            "Image saved as /content/output/output_at_iteration_85.png\n",
            "Iteration 85 completed in 5s\n",
            "Start of iteration 86\n",
            "Current loss value: 5579719000.0\n",
            "Image saved as /content/output/output_at_iteration_86.png\n",
            "Iteration 86 completed in 5s\n",
            "Start of iteration 87\n",
            "Current loss value: 5578212400.0\n",
            "Image saved as /content/output/output_at_iteration_87.png\n",
            "Iteration 87 completed in 5s\n",
            "Start of iteration 88\n",
            "Current loss value: 5576884700.0\n",
            "Image saved as /content/output/output_at_iteration_88.png\n",
            "Iteration 88 completed in 5s\n",
            "Start of iteration 89\n",
            "Current loss value: 5575749600.0\n",
            "Image saved as /content/output/output_at_iteration_89.png\n",
            "Iteration 89 completed in 5s\n",
            "Start of iteration 90\n",
            "Current loss value: 5574641000.0\n",
            "Image saved as /content/output/output_at_iteration_90.png\n",
            "Iteration 90 completed in 5s\n",
            "Start of iteration 91\n",
            "Current loss value: 5573657600.0\n",
            "Image saved as /content/output/output_at_iteration_91.png\n",
            "Iteration 91 completed in 5s\n",
            "Start of iteration 92\n",
            "Current loss value: 5572698000.0\n",
            "Image saved as /content/output/output_at_iteration_92.png\n",
            "Iteration 92 completed in 5s\n",
            "Start of iteration 93\n",
            "Current loss value: 5571812400.0\n",
            "Image saved as /content/output/output_at_iteration_93.png\n",
            "Iteration 93 completed in 5s\n",
            "Start of iteration 94\n",
            "Current loss value: 5570976000.0\n",
            "Image saved as /content/output/output_at_iteration_94.png\n",
            "Iteration 94 completed in 5s\n",
            "Start of iteration 95\n",
            "Current loss value: 5570191400.0\n",
            "Image saved as /content/output/output_at_iteration_95.png\n",
            "Iteration 95 completed in 5s\n",
            "Start of iteration 96\n",
            "Current loss value: 5569468000.0\n",
            "Image saved as /content/output/output_at_iteration_96.png\n",
            "Iteration 96 completed in 5s\n",
            "Start of iteration 97\n",
            "Current loss value: 5568762400.0\n",
            "Image saved as /content/output/output_at_iteration_97.png\n",
            "Iteration 97 completed in 5s\n",
            "Start of iteration 98\n",
            "Current loss value: 5568106500.0\n",
            "Image saved as /content/output/output_at_iteration_98.png\n",
            "Iteration 98 completed in 5s\n",
            "Start of iteration 99\n",
            "Current loss value: 5567451000.0\n",
            "Image saved as /content/output/output_at_iteration_99.png\n",
            "Iteration 99 completed in 5s\n"
          ],
          "name": "stdout"
        }
      ]
    },
    {
      "cell_type": "markdown",
      "metadata": {
        "id": "SkiJtofbWWy1"
      },
      "source": [
        "# 8) Generar imágenes para distintas combinaciones de pesos de las losses. Explicar las diferencias. (Adjuntar las imágenes generadas como archivos separados.)\n",
        "\n",
        "Respuesta:\n",
        "\n",
        "total_variation_weight:\n",
        "Mientras más elevada la Loss la imagen sale más borrosa.\n",
        "style_weight:\n",
        "Mientras más elevado la imagen output se asemeja a la imagen estilo.\n",
        "content_weight:\n",
        "Mientras más elevado la imagen output se asemeja a la original.\n",
        "\n",
        "Todas en 0 simplemente no pasa nada, es decir, la imagen output es la misma que la orginal.\n",
        "\n",
        "\n",
        "# 9) Cambiar las imágenes de contenido y estilo por unas elegidas por usted. Adjuntar el resultado.\n",
        "\n",
        "Respuesta: adjunto una carpeta."
      ]
    }
  ]
}